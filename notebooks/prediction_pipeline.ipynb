{
 "cells": [
  {
   "cell_type": "code",
   "execution_count": 13,
   "id": "aba208cc-1b05-4280-b342-99a9d43dc700",
   "metadata": {},
   "outputs": [],
   "source": [
    "import tensorflow as tf\n",
    "# import pandas as pd\n",
    "import numpy as np\n",
    "# import matplotlib.pyplot as plt\n",
    "# import warnings\n",
    "# import os\n",
    "# import tqdm\n",
    "# import random\n",
    "# from keras.preprocessing.image import load_img\n",
    "# from tensorflow.keras.models import load_model\n",
    "from tensorflow.keras import models,layers\n",
    "import cv2\n",
    "# import pickle\n",
    "# warnings.filterwarnings('ignore')"
   ]
  },
  {
   "cell_type": "code",
   "execution_count": 5,
   "id": "3d65bfc3-2be5-4ee8-88b0-1f8f8a78c871",
   "metadata": {},
   "outputs": [
    {
     "name": "stdout",
     "output_type": "stream",
     "text": [
      "d:\\project\\Final-Project\\notebooks\n"
     ]
    }
   ],
   "source": [
    "# print(os.getcwd())"
   ]
  },
  {
   "cell_type": "code",
   "execution_count": 29,
   "id": "34290fec-d450-429c-8ce0-089642714a58",
   "metadata": {},
   "outputs": [],
   "source": [
    "#Testing Model"
   ]
  },
  {
   "cell_type": "code",
   "execution_count": 14,
   "id": "062ffe50-a52e-4eae-a997-ea80f390fbb9",
   "metadata": {},
   "outputs": [],
   "source": [
    "img = cv2.imread('../artifacts/brown_plant_hopper.jpg')\n",
    "# plt.imshow(img)\n",
    "# plt.show()"
   ]
  },
  {
   "cell_type": "code",
   "execution_count": 15,
   "id": "9eb07de2-5338-49e2-9945-b0a0b50f66f0",
   "metadata": {},
   "outputs": [],
   "source": [
    "# np.expand_dims(img, 0).shape"
   ]
  },
  {
   "cell_type": "code",
   "execution_count": 32,
   "id": "0eaa966c-5f18-4fc8-9e58-80fa64c2c2d6",
   "metadata": {},
   "outputs": [],
   "source": [
    "#Image Resize"
   ]
  },
  {
   "cell_type": "code",
   "execution_count": 16,
   "id": "15d8dc1d-7f3e-46c3-b874-88cb8b15e09c",
   "metadata": {},
   "outputs": [],
   "source": [
    "resize = tf.image.resize(img,(128,128))\n",
    "# plt.imshow(resize.numpy().astype(int))\n",
    "# plt.show()"
   ]
  },
  {
   "cell_type": "code",
   "execution_count": 17,
   "id": "9e6a7d0a-2cbf-4ec4-99d6-da737199ee34",
   "metadata": {},
   "outputs": [],
   "source": [
    "# np.expand_dims(resize, 0).shape"
   ]
  },
  {
   "cell_type": "code",
   "execution_count": 18,
   "id": "8356ac58-1795-4248-99b4-f27e505bd85e",
   "metadata": {},
   "outputs": [],
   "source": [
    "model = tf.keras.models.load_model('../static/model/myModel.h5')\n"
   ]
  },
  {
   "cell_type": "code",
   "execution_count": 19,
   "id": "a6d486c4-4497-4eae-a1e6-dba3f3697638",
   "metadata": {},
   "outputs": [
    {
     "name": "stdout",
     "output_type": "stream",
     "text": [
      "1/1 [==============================] - 0s 102ms/step\n",
      "[[0.00202522]]\n"
     ]
    }
   ],
   "source": [
    "yhat = model.predict(np.expand_dims(resize/255, 0))\n",
    "print(yhat)"
   ]
  },
  {
   "cell_type": "code",
   "execution_count": 20,
   "id": "85bb450f-333e-4d9f-8a12-8cba5fdc2dd8",
   "metadata": {},
   "outputs": [
    {
     "name": "stdout",
     "output_type": "stream",
     "text": [
      "This is Brown Plant Hopper\n"
     ]
    }
   ],
   "source": [
    "if yhat>0.5:\n",
    "  print(\"This is Rice Gall Midge\")\n",
    "else:\n",
    "  print(\"This is Brown Plant Hopper\")"
   ]
  },
  {
   "cell_type": "code",
   "execution_count": null,
   "id": "86927712-6feb-46c3-a736-09e3569722ff",
   "metadata": {},
   "outputs": [],
   "source": []
  }
 ],
 "metadata": {
  "kernelspec": {
   "display_name": "Python 3.10.4 64-bit",
   "language": "python",
   "name": "python3"
  },
  "language_info": {
   "codemirror_mode": {
    "name": "ipython",
    "version": 3
   },
   "file_extension": ".py",
   "mimetype": "text/x-python",
   "name": "python",
   "nbconvert_exporter": "python",
   "pygments_lexer": "ipython3",
   "version": "3.10.4"
  },
  "vscode": {
   "interpreter": {
    "hash": "3196968d684371006099b3d55edeef8ed90365227a30deaef86e5d4aa8519be0"
   }
  }
 },
 "nbformat": 4,
 "nbformat_minor": 5
}
